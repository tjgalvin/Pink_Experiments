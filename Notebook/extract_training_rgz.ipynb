{
 "cells": [
  {
   "cell_type": "markdown",
   "metadata": {},
   "source": [
    "# Training RGZ images\n",
    "\n",
    "Extract images to be used to as a way to visualise the SOM and their heat maps"
   ]
  },
  {
   "cell_type": "code",
   "execution_count": 17,
   "metadata": {},
   "outputs": [],
   "source": [
    "import pandas as pd\n",
    "import numpy as np"
   ]
  },
  {
   "cell_type": "code",
   "execution_count": 81,
   "metadata": {},
   "outputs": [
    {
     "name": "stderr",
     "output_type": "stream",
     "text": [
      "/Users/gal16b/miniconda3/lib/python3.6/site-packages/IPython/core/interactiveshell.py:2785: DtypeWarning: Columns (73,74) have mixed types. Specify dtype option on import or set low_memory=False.\n",
      "  interactivity=interactivity, compiler=compiler, result=result)\n"
     ]
    }
   ],
   "source": [
    "rgz = pd.read_csv('FIRST_Cata_Images.csv')"
   ]
  },
  {
   "cell_type": "code",
   "execution_count": 82,
   "metadata": {},
   "outputs": [],
   "source": [
    "rgz['label'] = rgz['radio.number_components'].astype(str)+'_'+rgz['radio.number_peaks'].astype(str)"
   ]
  },
  {
   "cell_type": "code",
   "execution_count": 83,
   "metadata": {},
   "outputs": [],
   "source": [
    "df = rgz.groupby('label').nunique()"
   ]
  },
  {
   "cell_type": "code",
   "execution_count": 84,
   "metadata": {},
   "outputs": [],
   "source": [
    "labels = ['1_1','1_2','1_3','2_2','2_3','3_3']"
   ]
  },
  {
   "cell_type": "code",
   "execution_count": 85,
   "metadata": {},
   "outputs": [],
   "source": [
    "df = rgz[rgz['label'].isin(labels)]\n",
    "df = df[~(df['filename'].str.contains('failed') | df['filename'].str.contains('Failed') )]"
   ]
  },
  {
   "cell_type": "code",
   "execution_count": 86,
   "metadata": {},
   "outputs": [
    {
     "data": {
      "text/html": [
       "<div>\n",
       "<style scoped>\n",
       "    .dataframe tbody tr th:only-of-type {\n",
       "        vertical-align: middle;\n",
       "    }\n",
       "\n",
       "    .dataframe tbody tr th {\n",
       "        vertical-align: top;\n",
       "    }\n",
       "\n",
       "    .dataframe thead th {\n",
       "        text-align: right;\n",
       "    }\n",
       "</style>\n",
       "<table border=\"1\" class=\"dataframe\">\n",
       "  <thead>\n",
       "    <tr style=\"text-align: right;\">\n",
       "      <th></th>\n",
       "      <th>Unnamed: 0</th>\n",
       "      <th>catalog_id</th>\n",
       "      <th>rgz_name</th>\n",
       "      <th>zooniverse_id</th>\n",
       "      <th>overedge</th>\n",
       "      <th>radio.ra</th>\n",
       "      <th>radio.dec</th>\n",
       "      <th>consensus.ir_ra</th>\n",
       "      <th>consensus.ir_dec</th>\n",
       "      <th>consensus.n_total</th>\n",
       "      <th>...</th>\n",
       "      <th>SDSS.spec_redshift</th>\n",
       "      <th>SDSS.spec_redshift_err</th>\n",
       "      <th>SDSS.morphological_class</th>\n",
       "      <th>SDSS.spectral_class</th>\n",
       "      <th>SDSS.number_matches</th>\n",
       "      <th>duplicate_sources.share_components</th>\n",
       "      <th>duplicate_sources.match_components</th>\n",
       "      <th>duplicate_sources.WISE_cat_mismatch</th>\n",
       "      <th>filename</th>\n",
       "      <th>label</th>\n",
       "    </tr>\n",
       "  </thead>\n",
       "  <tbody>\n",
       "    <tr>\n",
       "      <th>0</th>\n",
       "      <td>0</td>\n",
       "      <td>1</td>\n",
       "      <td>RGZJ134538.5+232247</td>\n",
       "      <td>ARG000255t</td>\n",
       "      <td>0</td>\n",
       "      <td>206.410362</td>\n",
       "      <td>23.379914</td>\n",
       "      <td>-99.000000</td>\n",
       "      <td>-99.000000</td>\n",
       "      <td>79</td>\n",
       "      <td>...</td>\n",
       "      <td>-99.0</td>\n",
       "      <td>-99.0</td>\n",
       "      <td>-99</td>\n",
       "      <td>-99</td>\n",
       "      <td>0</td>\n",
       "      <td>-99</td>\n",
       "      <td>-99</td>\n",
       "      <td>-99</td>\n",
       "      <td>RGZJ134538.5+232247s.fits</td>\n",
       "      <td>1_1</td>\n",
       "    </tr>\n",
       "    <tr>\n",
       "      <th>1</th>\n",
       "      <td>1</td>\n",
       "      <td>2</td>\n",
       "      <td>RGZJ134541.2+232253</td>\n",
       "      <td>ARG000255t</td>\n",
       "      <td>0</td>\n",
       "      <td>206.422120</td>\n",
       "      <td>23.381925</td>\n",
       "      <td>206.421792</td>\n",
       "      <td>23.381597</td>\n",
       "      <td>79</td>\n",
       "      <td>...</td>\n",
       "      <td>-99.0</td>\n",
       "      <td>-99.0</td>\n",
       "      <td>-99</td>\n",
       "      <td>-99</td>\n",
       "      <td>0</td>\n",
       "      <td>-99</td>\n",
       "      <td>-99</td>\n",
       "      <td>-99</td>\n",
       "      <td>RGZJ134541.2+232253s.fits</td>\n",
       "      <td>1_2</td>\n",
       "    </tr>\n",
       "    <tr>\n",
       "      <th>2</th>\n",
       "      <td>2</td>\n",
       "      <td>3</td>\n",
       "      <td>RGZJ105651.3+232256</td>\n",
       "      <td>ARG000255u</td>\n",
       "      <td>0</td>\n",
       "      <td>164.213999</td>\n",
       "      <td>23.382186</td>\n",
       "      <td>164.214055</td>\n",
       "      <td>23.382493</td>\n",
       "      <td>36</td>\n",
       "      <td>...</td>\n",
       "      <td>-99.0</td>\n",
       "      <td>-99.0</td>\n",
       "      <td>G</td>\n",
       "      <td>-99</td>\n",
       "      <td>1</td>\n",
       "      <td>-99</td>\n",
       "      <td>-99</td>\n",
       "      <td>-99</td>\n",
       "      <td>RGZJ105651.3+232256s.fits</td>\n",
       "      <td>1_1</td>\n",
       "    </tr>\n",
       "    <tr>\n",
       "      <th>3</th>\n",
       "      <td>3</td>\n",
       "      <td>4</td>\n",
       "      <td>RGZJ105654.2+232335</td>\n",
       "      <td>ARG000255u</td>\n",
       "      <td>0</td>\n",
       "      <td>164.226081</td>\n",
       "      <td>23.393043</td>\n",
       "      <td>164.226006</td>\n",
       "      <td>23.393103</td>\n",
       "      <td>36</td>\n",
       "      <td>...</td>\n",
       "      <td>-99.0</td>\n",
       "      <td>-99.0</td>\n",
       "      <td>-99</td>\n",
       "      <td>-99</td>\n",
       "      <td>0</td>\n",
       "      <td>-99</td>\n",
       "      <td>-99</td>\n",
       "      <td>-99</td>\n",
       "      <td>RGZJ105654.2+232335s.fits</td>\n",
       "      <td>1_1</td>\n",
       "    </tr>\n",
       "    <tr>\n",
       "      <th>4</th>\n",
       "      <td>4</td>\n",
       "      <td>5</td>\n",
       "      <td>RGZJ164643.0+232254</td>\n",
       "      <td>ARG000255v</td>\n",
       "      <td>0</td>\n",
       "      <td>251.679244</td>\n",
       "      <td>23.382107</td>\n",
       "      <td>251.679248</td>\n",
       "      <td>23.382187</td>\n",
       "      <td>42</td>\n",
       "      <td>...</td>\n",
       "      <td>-99.0</td>\n",
       "      <td>-99.0</td>\n",
       "      <td>G</td>\n",
       "      <td>-99</td>\n",
       "      <td>1</td>\n",
       "      <td>-99</td>\n",
       "      <td>-99</td>\n",
       "      <td>-99</td>\n",
       "      <td>RGZJ164643.0+232254s.fits</td>\n",
       "      <td>1_1</td>\n",
       "    </tr>\n",
       "  </tbody>\n",
       "</table>\n",
       "<p>5 rows × 77 columns</p>\n",
       "</div>"
      ],
      "text/plain": [
       "   Unnamed: 0  catalog_id             rgz_name zooniverse_id  overedge  \\\n",
       "0           0           1  RGZJ134538.5+232247    ARG000255t         0   \n",
       "1           1           2  RGZJ134541.2+232253    ARG000255t         0   \n",
       "2           2           3  RGZJ105651.3+232256    ARG000255u         0   \n",
       "3           3           4  RGZJ105654.2+232335    ARG000255u         0   \n",
       "4           4           5  RGZJ164643.0+232254    ARG000255v         0   \n",
       "\n",
       "     radio.ra  radio.dec  consensus.ir_ra  consensus.ir_dec  \\\n",
       "0  206.410362  23.379914       -99.000000        -99.000000   \n",
       "1  206.422120  23.381925       206.421792         23.381597   \n",
       "2  164.213999  23.382186       164.214055         23.382493   \n",
       "3  164.226081  23.393043       164.226006         23.393103   \n",
       "4  251.679244  23.382107       251.679248         23.382187   \n",
       "\n",
       "   consensus.n_total  ...    SDSS.spec_redshift  SDSS.spec_redshift_err  \\\n",
       "0                 79  ...                 -99.0                   -99.0   \n",
       "1                 79  ...                 -99.0                   -99.0   \n",
       "2                 36  ...                 -99.0                   -99.0   \n",
       "3                 36  ...                 -99.0                   -99.0   \n",
       "4                 42  ...                 -99.0                   -99.0   \n",
       "\n",
       "   SDSS.morphological_class  SDSS.spectral_class  SDSS.number_matches  \\\n",
       "0                       -99                  -99                    0   \n",
       "1                       -99                  -99                    0   \n",
       "2                         G                  -99                    1   \n",
       "3                       -99                  -99                    0   \n",
       "4                         G                  -99                    1   \n",
       "\n",
       "   duplicate_sources.share_components  duplicate_sources.match_components  \\\n",
       "0                                 -99                                 -99   \n",
       "1                                 -99                                 -99   \n",
       "2                                 -99                                 -99   \n",
       "3                                 -99                                 -99   \n",
       "4                                 -99                                 -99   \n",
       "\n",
       "   duplicate_sources.WISE_cat_mismatch                   filename  label  \n",
       "0                                  -99  RGZJ134538.5+232247s.fits    1_1  \n",
       "1                                  -99  RGZJ134541.2+232253s.fits    1_2  \n",
       "2                                  -99  RGZJ105651.3+232256s.fits    1_1  \n",
       "3                                  -99  RGZJ105654.2+232335s.fits    1_1  \n",
       "4                                  -99  RGZJ164643.0+232254s.fits    1_1  \n",
       "\n",
       "[5 rows x 77 columns]"
      ]
     },
     "execution_count": 86,
     "metadata": {},
     "output_type": "execute_result"
    }
   ],
   "source": [
    "df.head()"
   ]
  },
  {
   "cell_type": "code",
   "execution_count": 87,
   "metadata": {
    "scrolled": true
   },
   "outputs": [],
   "source": [
    "df = df[(df['consensus.radio_level']>0.6) & (df['consensus.ir_level']>0.6)]"
   ]
  },
  {
   "cell_type": "code",
   "execution_count": 88,
   "metadata": {},
   "outputs": [
    {
     "data": {
      "text/plain": [
       "(50539, 77)"
      ]
     },
     "execution_count": 88,
     "metadata": {},
     "output_type": "execute_result"
    }
   ],
   "source": [
    "df.shape"
   ]
  },
  {
   "cell_type": "code",
   "execution_count": 1,
   "metadata": {},
   "outputs": [
    {
     "ename": "NameError",
     "evalue": "name 'plt' is not defined",
     "output_type": "error",
     "traceback": [
      "\u001b[0;31m---------------------------------------------------------------------------\u001b[0m",
      "\u001b[0;31mNameError\u001b[0m                                 Traceback (most recent call last)",
      "\u001b[0;32m<ipython-input-1-bff1f7eaece4>\u001b[0m in \u001b[0;36m<module>\u001b[0;34m()\u001b[0m\n\u001b[0;32m----> 1\u001b[0;31m \u001b[0mfig\u001b[0m\u001b[0;34m,\u001b[0m \u001b[0max\u001b[0m \u001b[0;34m=\u001b[0m \u001b[0mplt\u001b[0m\u001b[0;34m.\u001b[0m\u001b[0msubplots\u001b[0m\u001b[0;34m(\u001b[0m\u001b[0;36m1\u001b[0m\u001b[0;34m,\u001b[0m\u001b[0;36m1\u001b[0m\u001b[0;34m)\u001b[0m\u001b[0;34m\u001b[0m\u001b[0m\n\u001b[0m\u001b[1;32m      2\u001b[0m \u001b[0;34m\u001b[0m\u001b[0m\n\u001b[1;32m      3\u001b[0m \u001b[0max\u001b[0m \u001b[0;34m=\u001b[0m \u001b[0mdf\u001b[0m\u001b[0;34m.\u001b[0m\u001b[0mboxplot\u001b[0m\u001b[0;34m(\u001b[0m\u001b[0mby\u001b[0m\u001b[0;34m=\u001b[0m\u001b[0;34m'label'\u001b[0m\u001b[0;34m,\u001b[0m \u001b[0mcolumn\u001b[0m\u001b[0;34m=\u001b[0m\u001b[0;34m'consensus.radio_level'\u001b[0m\u001b[0;34m,\u001b[0m \u001b[0max\u001b[0m\u001b[0;34m=\u001b[0m\u001b[0max\u001b[0m\u001b[0;34m,\u001b[0m \u001b[0mms\u001b[0m\u001b[0;34m=\u001b[0m\u001b[0;34m'x'\u001b[0m\u001b[0;34m)\u001b[0m\u001b[0;34m\u001b[0m\u001b[0m\n\u001b[1;32m      4\u001b[0m \u001b[0max\u001b[0m\u001b[0;34m.\u001b[0m\u001b[0mset\u001b[0m\u001b[0;34m(\u001b[0m\u001b[0mtitle\u001b[0m\u001b[0;34m=\u001b[0m\u001b[0;34m'Radio Consensus Level'\u001b[0m\u001b[0;34m)\u001b[0m\u001b[0;34m\u001b[0m\u001b[0m\n\u001b[1;32m      5\u001b[0m \u001b[0;34m\u001b[0m\u001b[0m\n",
      "\u001b[0;31mNameError\u001b[0m: name 'plt' is not defined"
     ]
    }
   ],
   "source": [
    "fig, ax = plt.subplots(1,1)\n",
    "\n",
    "ax = df.boxplot(by='label', column='consensus.radio_level', ax=ax)\n",
    "ax.set(title='Radio Consensus Level')\n",
    "\n",
    "fig.suptitle('')\n",
    "fig.tight_layout()\n",
    "fig.show()"
   ]
  },
  {
   "cell_type": "code",
   "execution_count": 90,
   "metadata": {},
   "outputs": [
    {
     "name": "stderr",
     "output_type": "stream",
     "text": [
      "/Users/gal16b/miniconda3/lib/python3.6/site-packages/matplotlib/figure.py:459: UserWarning: matplotlib is currently using a non-GUI backend, so cannot show the figure\n",
      "  \"matplotlib is currently using a non-GUI backend, \"\n"
     ]
    },
    {
     "data": {
      "image/png": "[encoded data removed]",
      "text/plain": [
       "<Figure size 432x288 with 1 Axes>"
      ]
     },
     "metadata": {},
     "output_type": "display_data"
    }
   ],
   "source": [
    "fig, ax = plt.subplots(1,1)\n",
    "\n",
    "ax = df.boxplot(by='label', column='consensus.ir_level', ax=ax)\n",
    "ax.set(title='IR Consensus Level')\n",
    "\n",
    "\n",
    "fig.suptitle('')\n",
    "fig.tight_layout()\n",
    "fig.show()"
   ]
  },
  {
   "cell_type": "code",
   "execution_count": 91,
   "metadata": {},
   "outputs": [],
   "source": [
    "train = df.sample()"
   ]
  },
  {
   "cell_type": "code",
   "execution_count": 92,
   "metadata": {},
   "outputs": [
    {
     "name": "stdout",
     "output_type": "stream",
     "text": [
      "[('1_1', (1, 77))]\n"
     ]
    }
   ],
   "source": [
    "print([(i[0],i[1].shape) for i in train.groupby('label')])"
   ]
  },
  {
   "cell_type": "code",
   "execution_count": 120,
   "metadata": {},
   "outputs": [],
   "source": [
    "from sklearn.model_selection import train_test_split\n",
    "\n",
    "strat = [] \n",
    "for l, c in zip(labels, [5000, 1000, 1000, 1000, 1000, 1000]):\n",
    "    strat += [l]*c\n",
    "\n",
    "train, test = train_test_split(df)\n",
    "test = test[~(test['filename'].str.contains('failed') | test['filename'].str.contains('Failed') )]\n"
   ]
  },
  {
   "cell_type": "code",
   "execution_count": 124,
   "metadata": {},
   "outputs": [
    {
     "name": "stdout",
     "output_type": "stream",
     "text": [
      "Empty DataFrame\n",
      "Columns: [Unnamed: 0, catalog_id, rgz_name, zooniverse_id, overedge, radio.ra, radio.dec, consensus.ir_ra, consensus.ir_dec, consensus.n_total, consensus.n_radio, consensus.n_ir, consensus.radio_level, consensus.ir_level, radio.number_components, radio.number_peaks, radio.max_angular_extent, radio.total_solid_angle, radio.outermost_level, radio.max_physical_extent, radio.total_cross_section, component.peak_fluxes, component.peak_flux_errs, component.peak_ras, component.peak_decs, component.fluxes, component.flux_errs, component.angular_extents, component.solid_angles, component.physical_extents, component.cross_sections, radio.total_flux, radio.total_flux_err, radio.total_luminosity, radio.total_luminosity_err, AllWISE.designation, AllWISE.ra, AllWISE.dec, AllWISE.w1mpro, AllWISE.w1sigmpro, AllWISE.w1snr, AllWISE.w2mpro, AllWISE.w2sigmpro, AllWISE.w2snr, AllWISE.w3mpro, AllWISE.w3sigmpro, AllWISE.w3snr, AllWISE.w4mpro, AllWISE.w4sigmpro, AllWISE.w4snr, AllWISE.number_matches, AllWISE.photo_redshift, SDSS.objID, SDSS.ra, SDSS.dec, SDSS.u, SDSS.u_err, SDSS.r, SDSS.r_err, SDSS.g, SDSS.g_err, SDSS.i, SDSS.i_err, SDSS.z, SDSS.z_err, SDSS.photo_redshift, SDSS.photo_redshift_err, SDSS.spec_redshift, SDSS.spec_redshift_err, SDSS.morphological_class, SDSS.spectral_class, SDSS.number_matches, duplicate_sources.share_components, duplicate_sources.match_components, duplicate_sources.WISE_cat_mismatch, filename, label]\n",
      "Index: []\n",
      "\n",
      "[0 rows x 77 columns]\n",
      "[('1_1', (36071, 77)), ('1_2', (8058, 77)), ('1_3', (858, 77)), ('2_2', (4072, 77)), ('2_3', (672, 77)), ('3_3', (808, 77))]\n"
     ]
    }
   ],
   "source": [
    "print(test[(test['filename'].str.contains('failed') | test['filename'].str.contains('Failed') )])\n",
    "print([(i[0],i[1].shape) for i in df.groupby('label')])"
   ]
  },
  {
   "cell_type": "code",
   "execution_count": 125,
   "metadata": {},
   "outputs": [],
   "source": [
    "df = df[~(df['filename'].str.contains('failed') | df['filename'].str.contains('Failed') )]\n",
    "test = pd.concat( [df[df['label']==i].sample(n=2000, replace=True).drop_duplicates() for i in labels ]  )"
   ]
  },
  {
   "cell_type": "code",
   "execution_count": 126,
   "metadata": {},
   "outputs": [
    {
     "name": "stdout",
     "output_type": "stream",
     "text": [
      "(7464, 77)\n",
      "(7464, 77)\n"
     ]
    }
   ],
   "source": [
    "print(test.shape)\n",
    "test = test[~(test['filename'].str.contains('failed') | test['filename'].str.contains('Failed') )]\n",
    "print(test.shape)"
   ]
  },
  {
   "cell_type": "code",
   "execution_count": 127,
   "metadata": {},
   "outputs": [
    {
     "name": "stdout",
     "output_type": "stream",
     "text": [
      "[('1_1', (1947, 77)), ('1_2', (1786, 77)), ('1_3', (775, 77)), ('2_2', (1585, 77)), ('2_3', (631, 77)), ('3_3', (740, 77))]\n"
     ]
    }
   ],
   "source": [
    "print([(i[0],i[1].shape) for i in test.groupby('label')])"
   ]
  },
  {
   "cell_type": "code",
   "execution_count": 128,
   "metadata": {},
   "outputs": [],
   "source": [
    "test.to_csv('RGZ_Test_Images_Dataframe.csv')"
   ]
  },
  {
   "cell_type": "code",
   "execution_count": null,
   "metadata": {},
   "outputs": [],
   "source": []
  },
  {
   "cell_type": "code",
   "execution_count": null,
   "metadata": {},
   "outputs": [],
   "source": []
  }
 ],
 "metadata": {
  "kernelspec": {
   "display_name": "Python 3",
   "language": "python",
   "name": "python3"
  },
  "language_info": {
   "codemirror_mode": {
    "name": "ipython",
    "version": 3
   },
   "file_extension": ".py",
   "mimetype": "text/x-python",
   "name": "python",
   "nbconvert_exporter": "python",
   "pygments_lexer": "ipython3",
   "version": "3.6.5"
  }
 },
 "nbformat": 4,
 "nbformat_minor": 2
}
