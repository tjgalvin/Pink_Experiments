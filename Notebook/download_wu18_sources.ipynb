{
 "cells": [
  {
   "cell_type": "markdown",
   "metadata": {},
   "source": [
    "# Download the images from Wu+18\n",
    "\n",
    "Download the images from Wu+18. I have used the RGZID when saving images. The FIRSTID saved by Wu+18 in their full_catalog.csv file is slightly different. Test to make sure they line up and it is just a .replace('RGZ','FIRST')"
   ]
  },
  {
   "cell_type": "code",
   "execution_count": 1,
   "metadata": {},
   "outputs": [],
   "source": [
    "import pandas as pd\n",
    "import numpy as np"
   ]
  },
  {
   "cell_type": "code",
   "execution_count": 2,
   "metadata": {},
   "outputs": [
    {
     "name": "stdout",
     "output_type": "stream",
     "text": [
      "['RGZJ000001.3+044129s.fits', 'RGZJ000007.0+081645s.fits', 'RGZJ000015.8+100224s.fits', 'RGZJ000018.1+143416s.fits', 'RGZJ000023.8+143551s.fits', 'RGZJ000024.0+122953s.fits', 'RGZJ000032.6+053634s.fits', 'RGZJ000038.2+121212s.fits', 'RGZJ000039.3+041134s.fits', 'RGZJ000042.3+143545s.fits']\n",
      "['FIRSTJ000001.3+044129', 'FIRSTJ000007.0+081645', 'FIRSTJ000015.8+100224', 'FIRSTJ000018.1+143416', 'FIRSTJ000023.8+143551', 'FIRSTJ000024.0+122953', 'FIRSTJ000032.6+053634', 'FIRSTJ000038.2+121212', 'FIRSTJ000039.3+041134', 'FIRSTJ000042.3+143545']\n",
      "['FIRSTJ000001.3+044', 'FIRSTJ000007.0+081', 'FIRSTJ000015.8+100', 'FIRSTJ000018.1+143', 'FIRSTJ000023.8+143', 'FIRSTJ000024.0+122', 'FIRSTJ000032.6+053', 'FIRSTJ000038.2+121', 'FIRSTJ000039.3+041', 'FIRSTJ000042.3+143']\n"
     ]
    }
   ],
   "source": [
    "with open('wise_reprojected.txt', 'r') as images:\n",
    "    files = images.read().split()\n",
    "\n",
    "print(files[:10])\n",
    "files = [i.replace('s.fits','').replace('RGZ','FIRST') for i in files]\n",
    "print(files[:10])\n",
    "clipped = [i[:-3] for i in files]\n",
    "print(clipped[:10])\n",
    "\n"
   ]
  },
  {
   "cell_type": "code",
   "execution_count": 3,
   "metadata": {},
   "outputs": [],
   "source": [
    "wu_csv = pd.read_csv('../rgz_rcnn/data/RGZdevkit2017/RGZ2017/ImageSets/Main/full_catalogue.csv')"
   ]
  },
  {
   "cell_type": "code",
   "execution_count": 4,
   "metadata": {},
   "outputs": [
    {
     "data": {
      "text/html": [
       "<div>\n",
       "<style scoped>\n",
       "    .dataframe tbody tr th:only-of-type {\n",
       "        vertical-align: middle;\n",
       "    }\n",
       "\n",
       "    .dataframe tbody tr th {\n",
       "        vertical-align: top;\n",
       "    }\n",
       "\n",
       "    .dataframe thead th {\n",
       "        text-align: right;\n",
       "    }\n",
       "</style>\n",
       "<table border=\"1\" class=\"dataframe\">\n",
       "  <thead>\n",
       "    <tr style=\"text-align: right;\">\n",
       "      <th></th>\n",
       "      <th>catalog_id</th>\n",
       "      <th>first_id</th>\n",
       "      <th>num_cpnts</th>\n",
       "      <th>num_peaks</th>\n",
       "      <th>cpnts_ras</th>\n",
       "      <th>cpnts_decs</th>\n",
       "      <th>ang_extent</th>\n",
       "      <th>cl</th>\n",
       "      <th>training</th>\n",
       "    </tr>\n",
       "  </thead>\n",
       "  <tbody>\n",
       "    <tr>\n",
       "      <th>0</th>\n",
       "      <td>72812</td>\n",
       "      <td>FIRSTJ000007.0+081644</td>\n",
       "      <td>1</td>\n",
       "      <td>1</td>\n",
       "      <td>0.0293334898173</td>\n",
       "      <td>8.27921811887</td>\n",
       "      <td>24.132834</td>\n",
       "      <td>0.750000</td>\n",
       "      <td>1</td>\n",
       "    </tr>\n",
       "    <tr>\n",
       "      <th>1</th>\n",
       "      <td>90834</td>\n",
       "      <td>FIRSTJ000224.9+120548</td>\n",
       "      <td>1</td>\n",
       "      <td>1</td>\n",
       "      <td>0.603907164255</td>\n",
       "      <td>12.0969514645</td>\n",
       "      <td>21.095924</td>\n",
       "      <td>1.000000</td>\n",
       "      <td>1</td>\n",
       "    </tr>\n",
       "    <tr>\n",
       "      <th>2</th>\n",
       "      <td>45645</td>\n",
       "      <td>FIRSTJ000235.0+040644</td>\n",
       "      <td>1</td>\n",
       "      <td>1</td>\n",
       "      <td>0.64601707519</td>\n",
       "      <td>4.11220785924</td>\n",
       "      <td>23.199435</td>\n",
       "      <td>0.890909</td>\n",
       "      <td>1</td>\n",
       "    </tr>\n",
       "    <tr>\n",
       "      <th>3</th>\n",
       "      <td>8712</td>\n",
       "      <td>FIRSTJ000239.8+105908</td>\n",
       "      <td>1</td>\n",
       "      <td>1</td>\n",
       "      <td>0.665720487019</td>\n",
       "      <td>10.9854154149</td>\n",
       "      <td>16.416587</td>\n",
       "      <td>0.625000</td>\n",
       "      <td>1</td>\n",
       "    </tr>\n",
       "    <tr>\n",
       "      <th>4</th>\n",
       "      <td>7276</td>\n",
       "      <td>FIRSTJ000315.0+111543</td>\n",
       "      <td>3</td>\n",
       "      <td>3</td>\n",
       "      <td>0.829248837542;0.812907986028;0.791904183729</td>\n",
       "      <td>11.2687369466;11.2618245489;11.2510806861</td>\n",
       "      <td>144.315582</td>\n",
       "      <td>0.774194</td>\n",
       "      <td>1</td>\n",
       "    </tr>\n",
       "  </tbody>\n",
       "</table>\n",
       "</div>"
      ],
      "text/plain": [
       "   catalog_id               first_id  num_cpnts  num_peaks  \\\n",
       "0       72812  FIRSTJ000007.0+081644          1          1   \n",
       "1       90834  FIRSTJ000224.9+120548          1          1   \n",
       "2       45645  FIRSTJ000235.0+040644          1          1   \n",
       "3        8712  FIRSTJ000239.8+105908          1          1   \n",
       "4        7276  FIRSTJ000315.0+111543          3          3   \n",
       "\n",
       "                                      cpnts_ras  \\\n",
       "0                               0.0293334898173   \n",
       "1                                0.603907164255   \n",
       "2                                 0.64601707519   \n",
       "3                                0.665720487019   \n",
       "4  0.829248837542;0.812907986028;0.791904183729   \n",
       "\n",
       "                                  cpnts_decs  ang_extent        cl  training  \n",
       "0                              8.27921811887   24.132834  0.750000         1  \n",
       "1                              12.0969514645   21.095924  1.000000         1  \n",
       "2                              4.11220785924   23.199435  0.890909         1  \n",
       "3                              10.9854154149   16.416587  0.625000         1  \n",
       "4  11.2687369466;11.2618245489;11.2510806861  144.315582  0.774194         1  "
      ]
     },
     "execution_count": 4,
     "metadata": {},
     "output_type": "execute_result"
    }
   ],
   "source": [
    "wu_csv.head()"
   ]
  },
  {
   "cell_type": "code",
   "execution_count": 5,
   "metadata": {},
   "outputs": [],
   "source": [
    " wu_csv['first_id_clipped'] = wu_csv['first_id'].str[:-3]"
   ]
  },
  {
   "cell_type": "code",
   "execution_count": 6,
   "metadata": {},
   "outputs": [
    {
     "data": {
      "text/html": [
       "<div>\n",
       "<style scoped>\n",
       "    .dataframe tbody tr th:only-of-type {\n",
       "        vertical-align: middle;\n",
       "    }\n",
       "\n",
       "    .dataframe tbody tr th {\n",
       "        vertical-align: top;\n",
       "    }\n",
       "\n",
       "    .dataframe thead th {\n",
       "        text-align: right;\n",
       "    }\n",
       "</style>\n",
       "<table border=\"1\" class=\"dataframe\">\n",
       "  <thead>\n",
       "    <tr style=\"text-align: right;\">\n",
       "      <th></th>\n",
       "      <th>first_id</th>\n",
       "      <th>first_id_clipped</th>\n",
       "    </tr>\n",
       "  </thead>\n",
       "  <tbody>\n",
       "    <tr>\n",
       "      <th>0</th>\n",
       "      <td>FIRSTJ000007.0+081644</td>\n",
       "      <td>FIRSTJ000007.0+081</td>\n",
       "    </tr>\n",
       "    <tr>\n",
       "      <th>1</th>\n",
       "      <td>FIRSTJ000224.9+120548</td>\n",
       "      <td>FIRSTJ000224.9+120</td>\n",
       "    </tr>\n",
       "    <tr>\n",
       "      <th>2</th>\n",
       "      <td>FIRSTJ000235.0+040644</td>\n",
       "      <td>FIRSTJ000235.0+040</td>\n",
       "    </tr>\n",
       "    <tr>\n",
       "      <th>3</th>\n",
       "      <td>FIRSTJ000239.8+105908</td>\n",
       "      <td>FIRSTJ000239.8+105</td>\n",
       "    </tr>\n",
       "    <tr>\n",
       "      <th>4</th>\n",
       "      <td>FIRSTJ000315.0+111543</td>\n",
       "      <td>FIRSTJ000315.0+111</td>\n",
       "    </tr>\n",
       "  </tbody>\n",
       "</table>\n",
       "</div>"
      ],
      "text/plain": [
       "                first_id    first_id_clipped\n",
       "0  FIRSTJ000007.0+081644  FIRSTJ000007.0+081\n",
       "1  FIRSTJ000224.9+120548  FIRSTJ000224.9+120\n",
       "2  FIRSTJ000235.0+040644  FIRSTJ000235.0+040\n",
       "3  FIRSTJ000239.8+105908  FIRSTJ000239.8+105\n",
       "4  FIRSTJ000315.0+111543  FIRSTJ000315.0+111"
      ]
     },
     "execution_count": 6,
     "metadata": {},
     "output_type": "execute_result"
    }
   ],
   "source": [
    "wu_csv[['first_id','first_id_clipped']].head()"
   ]
  },
  {
   "cell_type": "code",
   "execution_count": 7,
   "metadata": {},
   "outputs": [],
   "source": [
    "present_in_files = wu_csv.apply(lambda x: x['first_id_clipped'] in clipped, axis=1)"
   ]
  },
  {
   "cell_type": "code",
   "execution_count": 8,
   "metadata": {},
   "outputs": [
    {
     "name": "stdout",
     "output_type": "stream",
     "text": [
      "2913  matches have been found...\n"
     ]
    }
   ],
   "source": [
    "print(np.sum(present_in_files), ' matches have been found...')"
   ]
  },
  {
   "cell_type": "code",
   "execution_count": 9,
   "metadata": {},
   "outputs": [
    {
     "name": "stderr",
     "output_type": "stream",
     "text": [
      "/Users/gal16b/miniconda3/lib/python3.6/site-packages/IPython/core/interactiveshell.py:2785: DtypeWarning: Columns (72,73) have mixed types. Specify dtype option on import or set low_memory=False.\n",
      "  interactivity=interactivity, compiler=compiler, result=result)\n"
     ]
    }
   ],
   "source": [
    "rgz = pd.read_csv('static_rgz_flat_2016-08-02_full.csv')"
   ]
  },
  {
   "cell_type": "code",
   "execution_count": 10,
   "metadata": {},
   "outputs": [
    {
     "data": {
      "text/html": [
       "<div>\n",
       "<style scoped>\n",
       "    .dataframe tbody tr th:only-of-type {\n",
       "        vertical-align: middle;\n",
       "    }\n",
       "\n",
       "    .dataframe tbody tr th {\n",
       "        vertical-align: top;\n",
       "    }\n",
       "\n",
       "    .dataframe thead th {\n",
       "        text-align: right;\n",
       "    }\n",
       "</style>\n",
       "<table border=\"1\" class=\"dataframe\">\n",
       "  <thead>\n",
       "    <tr style=\"text-align: right;\">\n",
       "      <th></th>\n",
       "      <th>catalog_id</th>\n",
       "      <th>first_id</th>\n",
       "      <th>num_cpnts</th>\n",
       "      <th>num_peaks</th>\n",
       "      <th>cpnts_ras</th>\n",
       "      <th>cpnts_decs</th>\n",
       "      <th>ang_extent</th>\n",
       "      <th>cl</th>\n",
       "      <th>training</th>\n",
       "      <th>first_id_clipped</th>\n",
       "    </tr>\n",
       "  </thead>\n",
       "  <tbody>\n",
       "    <tr>\n",
       "      <th>0</th>\n",
       "      <td>72812</td>\n",
       "      <td>FIRSTJ000007.0+081644</td>\n",
       "      <td>1</td>\n",
       "      <td>1</td>\n",
       "      <td>0.0293334898173</td>\n",
       "      <td>8.27921811887</td>\n",
       "      <td>24.132834</td>\n",
       "      <td>0.750000</td>\n",
       "      <td>1</td>\n",
       "      <td>FIRSTJ000007.0+081</td>\n",
       "    </tr>\n",
       "    <tr>\n",
       "      <th>1</th>\n",
       "      <td>90834</td>\n",
       "      <td>FIRSTJ000224.9+120548</td>\n",
       "      <td>1</td>\n",
       "      <td>1</td>\n",
       "      <td>0.603907164255</td>\n",
       "      <td>12.0969514645</td>\n",
       "      <td>21.095924</td>\n",
       "      <td>1.000000</td>\n",
       "      <td>1</td>\n",
       "      <td>FIRSTJ000224.9+120</td>\n",
       "    </tr>\n",
       "    <tr>\n",
       "      <th>2</th>\n",
       "      <td>45645</td>\n",
       "      <td>FIRSTJ000235.0+040644</td>\n",
       "      <td>1</td>\n",
       "      <td>1</td>\n",
       "      <td>0.64601707519</td>\n",
       "      <td>4.11220785924</td>\n",
       "      <td>23.199435</td>\n",
       "      <td>0.890909</td>\n",
       "      <td>1</td>\n",
       "      <td>FIRSTJ000235.0+040</td>\n",
       "    </tr>\n",
       "    <tr>\n",
       "      <th>3</th>\n",
       "      <td>8712</td>\n",
       "      <td>FIRSTJ000239.8+105908</td>\n",
       "      <td>1</td>\n",
       "      <td>1</td>\n",
       "      <td>0.665720487019</td>\n",
       "      <td>10.9854154149</td>\n",
       "      <td>16.416587</td>\n",
       "      <td>0.625000</td>\n",
       "      <td>1</td>\n",
       "      <td>FIRSTJ000239.8+105</td>\n",
       "    </tr>\n",
       "    <tr>\n",
       "      <th>4</th>\n",
       "      <td>7276</td>\n",
       "      <td>FIRSTJ000315.0+111543</td>\n",
       "      <td>3</td>\n",
       "      <td>3</td>\n",
       "      <td>0.829248837542;0.812907986028;0.791904183729</td>\n",
       "      <td>11.2687369466;11.2618245489;11.2510806861</td>\n",
       "      <td>144.315582</td>\n",
       "      <td>0.774194</td>\n",
       "      <td>1</td>\n",
       "      <td>FIRSTJ000315.0+111</td>\n",
       "    </tr>\n",
       "  </tbody>\n",
       "</table>\n",
       "</div>"
      ],
      "text/plain": [
       "   catalog_id               first_id  num_cpnts  num_peaks  \\\n",
       "0       72812  FIRSTJ000007.0+081644          1          1   \n",
       "1       90834  FIRSTJ000224.9+120548          1          1   \n",
       "2       45645  FIRSTJ000235.0+040644          1          1   \n",
       "3        8712  FIRSTJ000239.8+105908          1          1   \n",
       "4        7276  FIRSTJ000315.0+111543          3          3   \n",
       "\n",
       "                                      cpnts_ras  \\\n",
       "0                               0.0293334898173   \n",
       "1                                0.603907164255   \n",
       "2                                 0.64601707519   \n",
       "3                                0.665720487019   \n",
       "4  0.829248837542;0.812907986028;0.791904183729   \n",
       "\n",
       "                                  cpnts_decs  ang_extent        cl  training  \\\n",
       "0                              8.27921811887   24.132834  0.750000         1   \n",
       "1                              12.0969514645   21.095924  1.000000         1   \n",
       "2                              4.11220785924   23.199435  0.890909         1   \n",
       "3                              10.9854154149   16.416587  0.625000         1   \n",
       "4  11.2687369466;11.2618245489;11.2510806861  144.315582  0.774194         1   \n",
       "\n",
       "     first_id_clipped  \n",
       "0  FIRSTJ000007.0+081  \n",
       "1  FIRSTJ000224.9+120  \n",
       "2  FIRSTJ000235.0+040  \n",
       "3  FIRSTJ000239.8+105  \n",
       "4  FIRSTJ000315.0+111  "
      ]
     },
     "execution_count": 10,
     "metadata": {},
     "output_type": "execute_result"
    }
   ],
   "source": [
    "wu_csv.head()"
   ]
  },
  {
   "cell_type": "code",
   "execution_count": 11,
   "metadata": {},
   "outputs": [
    {
     "data": {
      "text/html": [
       "<div>\n",
       "<style scoped>\n",
       "    .dataframe tbody tr th:only-of-type {\n",
       "        vertical-align: middle;\n",
       "    }\n",
       "\n",
       "    .dataframe tbody tr th {\n",
       "        vertical-align: top;\n",
       "    }\n",
       "\n",
       "    .dataframe thead th {\n",
       "        text-align: right;\n",
       "    }\n",
       "</style>\n",
       "<table border=\"1\" class=\"dataframe\">\n",
       "  <thead>\n",
       "    <tr style=\"text-align: right;\">\n",
       "      <th></th>\n",
       "      <th>catalog_id</th>\n",
       "      <th>rgz_name</th>\n",
       "      <th>zooniverse_id</th>\n",
       "      <th>overedge</th>\n",
       "      <th>radio.ra</th>\n",
       "      <th>radio.dec</th>\n",
       "      <th>consensus.ir_ra</th>\n",
       "      <th>consensus.ir_dec</th>\n",
       "      <th>consensus.n_total</th>\n",
       "      <th>consensus.n_radio</th>\n",
       "      <th>...</th>\n",
       "      <th>SDSS.photo_redshift</th>\n",
       "      <th>SDSS.photo_redshift_err</th>\n",
       "      <th>SDSS.spec_redshift</th>\n",
       "      <th>SDSS.spec_redshift_err</th>\n",
       "      <th>SDSS.morphological_class</th>\n",
       "      <th>SDSS.spectral_class</th>\n",
       "      <th>SDSS.number_matches</th>\n",
       "      <th>duplicate_sources.share_components</th>\n",
       "      <th>duplicate_sources.match_components</th>\n",
       "      <th>duplicate_sources.WISE_cat_mismatch</th>\n",
       "    </tr>\n",
       "  </thead>\n",
       "  <tbody>\n",
       "    <tr>\n",
       "      <th>64862</th>\n",
       "      <td>72812</td>\n",
       "      <td>RGZJ163016.2+155542</td>\n",
       "      <td>ARG0002lx4</td>\n",
       "      <td>0</td>\n",
       "      <td>247.567648</td>\n",
       "      <td>15.928609</td>\n",
       "      <td>247.567915</td>\n",
       "      <td>15.928447</td>\n",
       "      <td>17</td>\n",
       "      <td>17</td>\n",
       "      <td>...</td>\n",
       "      <td>-99.0</td>\n",
       "      <td>-99.0</td>\n",
       "      <td>-99.0</td>\n",
       "      <td>-99.0</td>\n",
       "      <td>-99</td>\n",
       "      <td>-99</td>\n",
       "      <td>0</td>\n",
       "      <td>-99</td>\n",
       "      <td>-99</td>\n",
       "      <td>-99</td>\n",
       "    </tr>\n",
       "  </tbody>\n",
       "</table>\n",
       "<p>1 rows × 74 columns</p>\n",
       "</div>"
      ],
      "text/plain": [
       "       catalog_id             rgz_name zooniverse_id  overedge    radio.ra  \\\n",
       "64862       72812  RGZJ163016.2+155542    ARG0002lx4         0  247.567648   \n",
       "\n",
       "       radio.dec  consensus.ir_ra  consensus.ir_dec  consensus.n_total  \\\n",
       "64862  15.928609       247.567915         15.928447                 17   \n",
       "\n",
       "       consensus.n_radio                 ...                   \\\n",
       "64862                 17                 ...                    \n",
       "\n",
       "       SDSS.photo_redshift  SDSS.photo_redshift_err  SDSS.spec_redshift  \\\n",
       "64862                -99.0                    -99.0               -99.0   \n",
       "\n",
       "       SDSS.spec_redshift_err  SDSS.morphological_class  SDSS.spectral_class  \\\n",
       "64862                   -99.0                       -99                  -99   \n",
       "\n",
       "       SDSS.number_matches  duplicate_sources.share_components  \\\n",
       "64862                    0                                 -99   \n",
       "\n",
       "       duplicate_sources.match_components  duplicate_sources.WISE_cat_mismatch  \n",
       "64862                                 -99                                  -99  \n",
       "\n",
       "[1 rows x 74 columns]"
      ]
     },
     "execution_count": 11,
     "metadata": {},
     "output_type": "execute_result"
    }
   ],
   "source": [
    "rgz[rgz['catalog_id'] == 72812]"
   ]
  },
  {
   "cell_type": "code",
   "execution_count": 12,
   "metadata": {},
   "outputs": [],
   "source": [
    "import sys\n",
    "sys.path.append(\"..\")\n",
    "# Assume the download_images file is the directory above\n",
    "from download_images import make_dir, reproject, _first, _wise"
   ]
  }
 ],
 "metadata": {
  "kernelspec": {
   "display_name": "Python 3",
   "language": "python",
   "name": "python3"
  },
  "language_info": {
   "codemirror_mode": {
    "name": "ipython",
    "version": 3
   },
   "file_extension": ".py",
   "mimetype": "text/x-python",
   "name": "python",
   "nbconvert_exporter": "python",
   "pygments_lexer": "ipython3",
   "version": "3.6.5"
  }
 },
 "nbformat": 4,
 "nbformat_minor": 2
}
